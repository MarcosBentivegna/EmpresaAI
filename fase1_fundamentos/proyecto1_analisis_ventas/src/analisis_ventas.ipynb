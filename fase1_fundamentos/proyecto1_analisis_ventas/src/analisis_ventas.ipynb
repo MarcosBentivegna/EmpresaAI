{
 "cells": [
  {
   "cell_type": "markdown",
   "id": "c625d6ef",
   "metadata": {},
   "source": [
    "# 📊 Análisis Exploratorio de Ventas\n",
    "Este notebook analiza un conjunto de datos de ventas simuladas para obtener insights útiles."
   ]
  },
  {
   "cell_type": "code",
   "execution_count": null,
   "id": "c28191d1",
   "metadata": {},
   "outputs": [],
   "source": [
    "# Importar librerías\n",
    "import pandas as pd\n",
    "import matplotlib.pyplot as plt\n",
    "import seaborn as sns\n",
    "\n",
    "# Configuraciones generales\n",
    "sns.set(style='whitegrid')\n",
    "%matplotlib inline"
   ]
  },
  {
   "cell_type": "code",
   "execution_count": null,
   "id": "b6151994",
   "metadata": {},
   "outputs": [],
   "source": [
    "# Cargar dataset\n",
    "df = pd.read_csv('../data/ventas.csv')\n",
    "df.head()"
   ]
  },
  {
   "cell_type": "code",
   "execution_count": null,
   "id": "1ac74d5b",
   "metadata": {},
   "outputs": [],
   "source": [
    "# Información general del dataset\n",
    "df.info()"
   ]
  },
  {
   "cell_type": "code",
   "execution_count": null,
   "id": "3b371e3b",
   "metadata": {},
   "outputs": [],
   "source": [
    "# Estadísticas descriptivas\n",
    "df.describe()"
   ]
  },
  {
   "cell_type": "markdown",
   "id": "02bbd9f1",
   "metadata": {},
   "source": [
    "## 🛍️ Productos más vendidos"
   ]
  },
  {
   "cell_type": "code",
   "execution_count": null,
   "id": "a1e1570a",
   "metadata": {},
   "outputs": [],
   "source": [
    "productos_mas_vendidos = df['Producto'].value_counts().head(10)\n",
    "plt.figure(figsize=(10,5))\n",
    "sns.barplot(x=productos_mas_vendidos.values, y=productos_mas_vendidos.index)\n",
    "plt.title('Top 10 Productos Más Vendidos')\n",
    "plt.xlabel('Cantidad Vendida')\n",
    "plt.ylabel('Producto')\n",
    "plt.show()"
   ]
  },
  {
   "cell_type": "markdown",
   "id": "e06285a4",
   "metadata": {},
   "source": [
    "## 💰 Ingresos totales por mes"
   ]
  },
  {
   "cell_type": "code",
   "execution_count": null,
   "id": "6dc6a0db",
   "metadata": {},
   "outputs": [],
   "source": [
    "# Asegurarse de que la columna Fecha esté en formato datetime\n",
    "df['Fecha'] = pd.to_datetime(df['Fecha'])\n",
    "df['Mes'] = df['Fecha'].dt.to_period('M')\n",
    "ingresos_mensuales = df.groupby('Mes')['Total'].sum()\n",
    "ingresos_mensuales.plot(kind='bar', figsize=(12,6), title='Ingresos Totales por Mes')\n",
    "plt.ylabel('Ingresos')\n",
    "plt.show()"
   ]
  },
  {
   "cell_type": "markdown",
   "id": "60702120",
   "metadata": {},
   "source": [
    "## 👥 Clientes más rentables"
   ]
  },
  {
   "cell_type": "code",
   "execution_count": null,
   "id": "faf45732",
   "metadata": {},
   "outputs": [],
   "source": [
    "clientes_rentables = df.groupby('Cliente')['Total'].sum().sort_values(ascending=False).head(10)\n",
    "plt.figure(figsize=(10,5))\n",
    "sns.barplot(x=clientes_rentables.values, y=clientes_rentables.index)\n",
    "plt.title('Top 10 Clientes Más Rentables')\n",
    "plt.xlabel('Ingresos Generados')\n",
    "plt.ylabel('Cliente')\n",
    "plt.show()"
   ]
  },
  {
   "cell_type": "markdown",
   "id": "626d19a7",
   "metadata": {},
   "source": [
    "## 📅 Días con más ventas"
   ]
  },
  {
   "cell_type": "code",
   "execution_count": null,
   "id": "6bb389ed",
   "metadata": {},
   "outputs": [],
   "source": [
    "df['Día'] = df['Fecha'].dt.day_name()\n",
    "ventas_por_dia = df['Día'].value_counts()\n",
    "plt.figure(figsize=(10,5))\n",
    "sns.barplot(x=ventas_por_dia.index, y=ventas_por_dia.values)\n",
    "plt.title('Ventas por Día de la Semana')\n",
    "plt.xlabel('Día')\n",
    "plt.ylabel('Cantidad de Ventas')\n",
    "plt.show()"
   ]
  },
  {
   "cell_type": "markdown",
   "id": "92cd823c",
   "metadata": {},
   "source": [
    "## ✅ Conclusiones\n",
    "- Analiza los gráficos generados para extraer insights.\n",
    "- Piensa en acciones que se podrían tomar con base en los resultados."
   ]
  }
 ],
 "metadata": {
  "kernelspec": {
   "display_name": "Python 3",
   "language": "python",
   "name": "python3"
  },
  "language_info": {
   "name": "python",
   "version": "3.12.7"
  }
 },
 "nbformat": 4,
 "nbformat_minor": 5
}
